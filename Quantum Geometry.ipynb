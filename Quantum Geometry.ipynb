{
 "cells": [
  {
   "cell_type": "markdown",
   "metadata": {},
   "source": [
    "# Capacity and quantum geometry of parametrized quantum circuits"
   ]
  },
  {
   "cell_type": "markdown",
   "metadata": {},
   "source": [
    "\n",
    "\"Capacity and quantum geometry of parametrized quantum circuits\" by T. Haug, K. Bharti, M.S. Kim\n",
    "arXiv:2102.01659\n",
    "\n",
    "Example code to calculate quantum Fisher information matrix,effective quantum dimension and quantum natural gradient.\n",
    "\n",
    "Calculates properties of a parametrized quantum circuit \n",
    "U(\\theta)=W_L R_L(\\theta) W_{L-1} R_{L-1}(\\theta) ... W_1 R_1(\\theta) \\sqrt{H}\\ket{0}\n",
    "\n",
    "W_l is entangling layer of two-qubit entangling operations, R_l are single-qubit rotations\n",
    "\n",
    "Based on qutip\n",
    "\n",
    "@author: Tobias Haug, github txhaug\n",
    "Imperial College London\n",
    "Contact at tobiasxhaug@gmail.com\n"
   ]
  },
  {
   "cell_type": "code",
   "execution_count": 10,
   "metadata": {},
   "outputs": [],
   "source": [
    "import qutip as qt\n",
    "\n",
    "#functools - for 'higher-order functions', creatin functions that operate on functions\n",
    "from functools import partial \n",
    "\n",
    "import operator\n",
    "from functools import reduce\n",
    "import numpy as np\n",
    "\n",
    "import scipy"
   ]
  },
  {
   "cell_type": "code",
   "execution_count": 11,
   "metadata": {},
   "outputs": [],
   "source": [
    "def prod(factors):\n",
    "    #applies operator.mul from left to right on the list factors, i.e reduce(mul, [2,3,4,5]) = (((2*3)*4)*5)\n",
    "    return reduce(operator.mul, factors, 1)\n",
    "\n",
    "\n",
    "def flatten(l):\n",
    "    #flattens a 2d list into a 1d list - looks real weird though\n",
    "    return [item for sublist in l for item in sublist]\n",
    "\n",
    "#tensors operators together \n",
    "def genFockOp(op,position,size,levels=2,opdim=0): #what is opdim - ask Tobias\n",
    "    #qeye is identity operation - makes 'levels' dimensional Hilbert Space (H)\n",
    "    opList=[qt.qeye(levels) for x in range(size-opdim)] #size = how many spins/qubits\n",
    "    opList[position]=op #set positionth H to the given operation\n",
    "    return qt.tensor(opList) #tensor product these identities and the operation - why is this a Fock op?"
   ]
  },
  {
   "cell_type": "code",
   "execution_count": 12,
   "metadata": {},
   "outputs": [
    {
     "name": "stdout",
     "output_type": "stream",
     "text": [
      "[1, 2, 3, 4, 5, 6, [7], [8, 9]]\n"
     ]
    },
    {
     "data": {
      "text/latex": [
       "Quantum object: dims = [[3], [3]], shape = (3, 3), type = oper, isherm = True\\begin{equation*}\\left(\\begin{array}{*{11}c}1.0 & 0.0 & 0.0\\\\0.0 & 1.0 & 0.0\\\\0.0 & 0.0 & 1.0\\\\\\end{array}\\right)\\end{equation*}"
      ],
      "text/plain": [
       "Quantum object: dims = [[3], [3]], shape = (3, 3), type = oper, isherm = True\n",
       "Qobj data =\n",
       "[[1. 0. 0.]\n",
       " [0. 1. 0.]\n",
       " [0. 0. 1.]]"
      ]
     },
     "execution_count": 12,
     "metadata": {},
     "output_type": "execute_result"
    }
   ],
   "source": [
    "test_list = [[1,2,3],[4,5,6],[[7],[8,9]]]\n",
    "print(flatten(test_list))\n",
    "qt.qeye(3) #kinda just a n*n identity but has other properties - s a qutip.qobj.Qobj"
   ]
  },
  {
   "cell_type": "markdown",
   "metadata": {},
   "source": [
    "Set parameters here for circuit"
   ]
  },
  {
   "cell_type": "code",
   "execution_count": 13,
   "metadata": {},
   "outputs": [],
   "source": [
    "\n",
    "n_qubits=4 #number qubits\n",
    "depth=3 #number of layers\n",
    "\n",
    "#type of entangling gate used\n",
    "type_entanglers=0 #0: CNOT, 1:CPHASE, 2: \\sqrt{iSWAP}\n",
    "\n",
    "#how to arrange the entangling layer. Fig 1 in paper\n",
    "entangling_arrangement=0 #0: one-dimensional nearest-neighbor CHAIN, 1: ALl-to-ALL connections\n",
    "#layer means applying rotation & entanglement sequentially i.e applying W_l p times to the output of previous W_l"
   ]
  },
  {
   "cell_type": "code",
   "execution_count": 14,
   "metadata": {},
   "outputs": [],
   "source": [
    "#random generator used\n",
    "rng = np.random.default_rng(1)\n",
    "\n",
    "\n",
    "#define angles for circuit - a 2D array w/ dimensions (depth, n_qubits) this is theta\n",
    "# need depth * n qubit params to vary\n",
    "ini_angles=rng.random([depth,n_qubits])*2*np.pi\n",
    "\n",
    "#define rotations for circuit in each layer, 1: X, 2:Y 3:Z\n",
    "ini_pauli=rng.integers(1,4,[depth,n_qubits])\n",
    "\n",
    "\n",
    "##test case for n_qubits=4, depth=3, type_entanglers=0,entangling_arrangement=0\n",
    "#ini_angles=np.reshape([1.48304, 2.17723, 1.9648, 0.0496955, 3.07004, 1.32555, 5.98107, 6.28259, 1.58124, 6.19941, 3.49189, 2.74643],[depth,n_qubits])\n",
    "#ini_pauli=np.reshape([3, 2, 2, 2, 3, 2, 3, 1, 3, 2, 2, 1],[depth,n_qubits])\n",
    "##should give energy=-0.290501, gradient_mean= 0.112244, qng_mean=0.3352\n",
    "\n",
    "#depth = # of layers\n",
    "n_parameters=depth*n_qubits #number of parameters of circuit\n",
    "\n",
    "\n",
    "cutoff_eigvals=10**-12 #define all eigenvalues of quantum fisher information metric as 0"
   ]
  },
  {
   "cell_type": "code",
   "execution_count": 15,
   "metadata": {},
   "outputs": [],
   "source": [
    "#operators for circuit, arrays of all diff single qubit operators, done for ease of use\n",
    "#can just call opZ[n] to operate sigma_z on nth qubit\n",
    "levels=2\n",
    "opZ=[genFockOp(qt.sigmaz(),i,n_qubits,levels) for i in range(n_qubits)]\n",
    "opX=[genFockOp(qt.sigmax(),i,n_qubits,levels) for i in range(n_qubits)]\n",
    "opY=[genFockOp(qt.sigmay(),i,n_qubits,levels) for i in range(n_qubits)]\n",
    "opId=genFockOp(qt.qeye(levels),0,n_qubits)\n"
   ]
  },
  {
   "cell_type": "code",
   "execution_count": 16,
   "metadata": {},
   "outputs": [
    {
     "data": {
      "text/plain": [
       "[array([0, 1]),\n",
       " array([2, 0]),\n",
       " array([3, 0]),\n",
       " array([2, 1]),\n",
       " array([1, 3]),\n",
       " array([2, 3])]"
      ]
     },
     "execution_count": 16,
     "metadata": {},
     "output_type": "execute_result"
    }
   ],
   "source": [
    "H=opZ[0]*opZ[1] #local Hamiltonian to calculate energy and gradient from\n",
    "# is sigmaZ on qubit 1 * sigmaZ on qubit 2\n",
    "entangling_arrangement = 1 #DELETE THIS LATER\n",
    "#defining structure of circuit and types of entanglers in these two elifs\n",
    "#define entangling gate arrangement, \n",
    "#output is list of connected qubits in each topology, i.e in CHAIN for 4 qubits (0,1), (2,3) and (1,2) are connected per fig 1c \n",
    "if(entangling_arrangement==0):    #here is for chain topology\n",
    "    entangling_gate_index=[[2*j,2*j+1] for j in range(n_qubits//2)]+[[2*j+1,2*j+2] for j in range((n_qubits-1)//2)]\n",
    "elif(entangling_arrangement==1):##all-to-all\n",
    "    #randomize control and target for more entangling power for CNOT\n",
    "    entangling_gate_index=flatten([[rng.permutation([i,j]) for j in range(i+1,n_qubits)] for i in range(n_qubits-1)])\n",
    "entangling_gate_index\n",
    "#order of EGI is important, they are listed as applied from L->R"
   ]
  },
  {
   "cell_type": "code",
   "execution_count": 17,
   "metadata": {},
   "outputs": [],
   "source": [
    "#type of entangliers used\n",
    "#literally produces an array of gates connecting the index pair in entangling gate index\n",
    "#need N_qubits so correct size matrix output by qt.qip.operations.gate\n",
    "if(type_entanglers==0):#CNOT\n",
    "    entangling_layer=prod([qt.qip.operations.cnot(n_qubits,j,k) for j,k in entangling_gate_index][::-1])#need [::-1] to invert order so that unitaries are multiplied in correct order\n",
    "elif(type_entanglers==1):#CPHASE\n",
    "    entangling_layer=prod([qt.qip.operations.csign(n_qubits,j,k) for j,k in entangling_gate_index][::-1])\n",
    "elif(type_entanglers==2):#\\sqrt{iSWAP}\n",
    "    entangling_layer=prod([qt.qip.operations.sqrtiswap(n_qubits,[j,k]) for j,k in entangling_gate_index][::-1])\n",
    "\n"
   ]
  },
  {
   "cell_type": "code",
   "execution_count": 18,
   "metadata": {},
   "outputs": [
    {
     "name": "stdout",
     "output_type": "stream",
     "text": [
      "Energy of state -0.008093523151450746\n"
     ]
    }
   ],
   "source": [
    "#calculate state and gradients\n",
    "\n",
    "#list of values of gradient\n",
    "gradient_list=np.zeros(n_parameters)\n",
    "\n",
    "#save here quantum state of gradient\n",
    "grad_state_list=[]\n",
    "\n",
    "#initial state is updated over time, is a bit of a misnomer.\n",
    "\n",
    "\n",
    "#p goes from -1 to n_parameters-1. -1 is to calculate quantum state, 0 to n_parameters rest for gradient\n",
    "#calculates the quantum state U\\ket{0}, as well as \\partial_i U \\ket{0}\n",
    "#those can be used to calcute energy, gradients and the Quantum Fisher metric \n",
    "for p in range(-1,n_parameters): #generates gradient of pth parameter - need this to optimise each paramater\n",
    "    counter=0 #counter to keep track of which parameter is calculated\n",
    "    initial_state=qt.tensor([qt.basis(levels,0) for i in range(n_qubits)])\n",
    "    #initial layer of fixed \\sqrt{H} rotations\n",
    "    initial_state=qt.tensor([qt.qip.operations.ry(np.pi/4) for i in range(n_qubits)])*initial_state\n",
    "    \n",
    "    #go through depth layers\n",
    "    for j in range(depth):\n",
    "        rot_op=[] #rot_op reset every time\n",
    "        #define parametrized single-qubit rotations at layer j\n",
    "        for k in range(n_qubits):\n",
    "            angle=ini_angles[j][k]\n",
    "            if(ini_pauli[j][k]==1):\n",
    "                rot_op.append(qt.qip.operations.rx(angle))\n",
    "            elif(ini_pauli[j][k]==2):\n",
    "                rot_op.append(qt.qip.operations.ry(angle))\n",
    "            elif(ini_pauli[j][k]==3):\n",
    "                rot_op.append(qt.qip.operations.rz(angle))\n",
    "                \n",
    "                \n",
    "            #multiply in derivative of parametrized single-qubit rotation gate at layer j for parameter of circuit p\n",
    "            #this is the exact derivative\n",
    "            if(counter==p): #if j,k is parameter you want to measure gradient of then change its initial state like this\n",
    "                if(ini_pauli[j][k]==1): #c.f eq (16) of nist review - derivative of rotation matrix w.r.t parameter p \n",
    "                    initial_state=(-1j*opX[k]/2)*initial_state\n",
    "                elif(ini_pauli[j][k]==2):\n",
    "                    initial_state=(-1j*opY[k]/2)*initial_state\n",
    "                elif(ini_pauli[j][k]==3):\n",
    "                    initial_state=(-1j*opZ[k]/2)*initial_state\n",
    "                \n",
    "            counter+=1 #this goes from 0-12 bc double nested j, k loop\n",
    "                \n",
    "        #multiply in single-qbuit rotations \n",
    "        #rot_op is each qubit rotation, then apply this to the layer, add entanglement layer and move to next layer\n",
    "        initial_state=qt.tensor(rot_op)*initial_state\n",
    "    \n",
    "        #add entangling layer, applies above tolpology to the state\n",
    "        initial_state=entangling_layer*initial_state\n",
    "     \n",
    "    if(p==-1):#get quantum state for cost function\n",
    "        #cost function given by <\\psi|H|\\psi>\n",
    "        circuit_state=qt.Qobj(initial_state)#state generated by circuit\n",
    "        energy=qt.expect(H,circuit_state)\n",
    "        print(\"Energy of state\",energy)\n",
    "\n",
    "    else:#get quantum state needed for gradient\n",
    "        grad_state_list.append(qt.Qobj(initial_state))#state with gradient applied for p-th parameter\n",
    "\n",
    "        #gradient of circuit is given by 2*real(<\\psi|H|\\partial_p\\psi>)\n",
    "        gradient_list[p]=2*np.real(circuit_state.overlap(H*initial_state))"
   ]
  },
  {
   "cell_type": "code",
   "execution_count": 19,
   "metadata": {},
   "outputs": [
    {
     "data": {
      "text/plain": [
       "array([[ 1.25000000e-01,  9.71445147e-17, -6.05064588e-19,\n",
       "         1.11022302e-16,  8.81446342e-02,  8.35963762e-02,\n",
       "         4.16333634e-17,  4.50370592e-04, -7.01457109e-02,\n",
       "        -7.67105862e-04, -8.01912044e-05,  8.84314696e-02],\n",
       "       [ 9.71445147e-17,  1.25000000e-01, -1.96870228e-17,\n",
       "         1.11022302e-16, -8.81446342e-02, -5.55111512e-17,\n",
       "         8.32208262e-02,  4.50370592e-04, -8.64401376e-02,\n",
       "        -7.67105862e-04,  1.10778414e-02,  7.43773970e-02],\n",
       "       [-6.05064588e-19, -1.96870228e-17,  2.50000000e-01,\n",
       "        -2.42110323e-18, -5.55005844e-18, -1.28739069e-17,\n",
       "        -3.30644795e-17,  3.07388446e-18,  1.29515101e-17,\n",
       "         6.97027721e-18, -6.56756559e-02, -1.33483643e-17],\n",
       "       [ 1.11022302e-16,  1.11022302e-16, -2.42110323e-18,\n",
       "         1.25000000e-01, -8.32667268e-17,  8.35963762e-02,\n",
       "        -8.32208262e-02,  4.50370592e-04, -6.38957022e-02,\n",
       "         1.00541279e-01, -8.01912044e-05, -1.65988358e-02],\n",
       "       [ 8.81446342e-02, -8.81446342e-02, -5.55005844e-18,\n",
       "        -8.32667268e-17,  1.87844188e-01,  5.96014312e-02,\n",
       "        -5.86837543e-02, -2.69968620e-02,  2.75898427e-02,\n",
       "         4.59831335e-02, -8.30324713e-03,  6.06266923e-02],\n",
       "       [ 8.35963762e-02, -5.55111512e-17, -1.28739069e-17,\n",
       "         8.35963762e-02,  5.96014312e-02,  1.94093167e-01,\n",
       "        -6.80974888e-02,  2.67672764e-02, -8.45748746e-02,\n",
       "         8.67909746e-02, -4.76607526e-03,  5.74983585e-02],\n",
       "       [ 4.16333634e-17,  8.32208262e-02, -3.30644795e-17,\n",
       "        -8.32208262e-02, -5.86837543e-02, -6.80974888e-02,\n",
       "         1.94594353e-01, -5.89904194e-03, -2.60486588e-02,\n",
       "        -8.28481277e-02, -7.48203416e-03,  6.45758801e-02],\n",
       "       [ 4.50370592e-04,  4.50370592e-04,  3.07388446e-18,\n",
       "         4.50370592e-04, -2.69968620e-02,  2.67672764e-02,\n",
       "        -5.89904194e-03,  2.49998377e-01,  1.40968919e-04,\n",
       "        -3.56718973e-04,  4.04909240e-05, -6.37239441e-02],\n",
       "       [-7.01457109e-02, -8.64401376e-02,  1.29515101e-17,\n",
       "        -6.38957022e-02,  2.75898427e-02, -8.45748746e-02,\n",
       "        -2.60486588e-02,  1.40968919e-04,  2.37753367e-01,\n",
       "        -7.84852499e-02, -3.51763699e-03, -7.35115845e-02],\n",
       "       [-7.67105862e-04, -7.67105862e-04,  6.97027721e-18,\n",
       "         1.00541279e-01,  4.59831335e-02,  8.67909746e-02,\n",
       "        -8.28481277e-02, -3.56718973e-04, -7.84852499e-02,\n",
       "         1.71580805e-01, -3.67237831e-03,  5.56140685e-03],\n",
       "       [-8.01912044e-05,  1.10778414e-02, -6.56756559e-02,\n",
       "        -8.01912044e-05, -8.30324713e-03, -4.76607526e-03,\n",
       "        -7.48203416e-03,  4.04909240e-05, -3.51763699e-03,\n",
       "        -3.67237831e-03,  2.48989619e-01,  3.67266038e-03],\n",
       "       [ 8.84314696e-02,  7.43773970e-02, -1.33483643e-17,\n",
       "        -1.65988358e-02,  6.06266923e-02,  5.74983585e-02,\n",
       "         6.45758801e-02, -6.37239441e-02, -7.35115845e-02,\n",
       "         5.56140685e-03,  3.67266038e-03,  1.90864809e-01]])"
      ]
     },
     "execution_count": 19,
     "metadata": {},
     "output_type": "execute_result"
    }
   ],
   "source": [
    "#quantum fisher information metric\n",
    "#calculated as \\text{Re}(\\braket{\\partial_i \\psi}{\\partial_j \\psi}-\\braket{\\partial_i \\psi}{\\psi}\\braket{\\psi}{\\partial_j \\psi})\n",
    "\n",
    "#first, calculate elements \\braket{\\psi}{\\partial_j \\psi})\n",
    "single_qfi_elements=np.zeros(n_parameters,dtype=np.complex128)\n",
    "for p in range(n_parameters):\n",
    "    #print(circuit_state.overlap(grad_state_list[p]))\n",
    "    single_qfi_elements[p]=circuit_state.overlap(grad_state_list[p]) #overlap intergral of initial state and its resultant gradient <psi|d_j psi>\n",
    "            \n",
    "\n",
    "#calculcate the qfi matrix. QFI symmetric\n",
    "qfi_matrix=np.zeros([n_parameters,n_parameters]) #square matrix\n",
    "for p in range(n_parameters):\n",
    "    for q in range(p,n_parameters):\n",
    "        qfi_matrix[p,q]=np.real(grad_state_list[p].overlap(grad_state_list[q])-np.conjugate(single_qfi_elements[p])*single_qfi_elements[q]) #this is (B3)\n",
    "    \n",
    "    \n",
    "#use fact that qfi matrix is real and hermitian\n",
    "for p in range(n_parameters):\n",
    "    for q in range(p+1,n_parameters):  \n",
    "        qfi_matrix[q,p]=qfi_matrix[p,q]\n",
    "qfi_matrix #12 params * 4 qubits * 3 layers"
   ]
  },
  {
   "cell_type": "markdown",
   "metadata": {},
   "source": [
    "Get eigenvalues and eigenvectors of quantum fisher information metric. Gives information about the parameter space of the circuit. Zero eigenvalues indicate redundant parameters, i.e. which do not contribute The larger the eigenvalue, the more the quantum state changes when changing the parameters in the direction of the eigenvector-\n",
    "For random initial parameters, the effective quantum dimension is equivalent to the parameter dimension, which is the total number of independent parameters that the quantum state generated by the quantum circuit can represent."
   ]
  },
  {
   "cell_type": "code",
   "execution_count": 46,
   "metadata": {},
   "outputs": [],
   "source": [
    "#get eigenvalues and eigenvectors of QFI\n",
    "eigvals,eigvecs=scipy.linalg.eigh(qfi_matrix)"
   ]
  },
  {
   "cell_type": "code",
   "execution_count": 47,
   "metadata": {},
   "outputs": [
    {
     "name": "stdout",
     "output_type": "stream",
     "text": [
      "Hilbert space 16\n",
      "Number parameters of circuit 12\n",
      "Effective quantum dimension G_C 12\n"
     ]
    }
   ],
   "source": [
    "#non-zero eigenvalues of qfi\n",
    "nonzero_eigvals=eigvals[eigvals>cutoff_eigvals]\n",
    "\n",
    "#effective quantum dimension, i.e. number of independent directions when perturbing system\n",
    "#is equivalent to parameter dimension (number of independent parameters of quantum state that can be represented by circuit) for random initial values of circuit\n",
    "eff_quant_dim=len(nonzero_eigvals)\n",
    "\n",
    "n_zero_eigval=n_parameters-eff_quant_dim\n",
    "\n",
    "print(\"Hilbert space\", 2**n_qubits)\n",
    "print(\"Number parameters of circuit\",n_parameters)\n",
    "print(\"Effective quantum dimension G_C\",eff_quant_dim)\n"
   ]
  },
  {
   "cell_type": "markdown",
   "metadata": {},
   "source": [
    "Number of parameters of circuit that are redundant"
   ]
  },
  {
   "cell_type": "code",
   "execution_count": 48,
   "metadata": {},
   "outputs": [
    {
     "name": "stdout",
     "output_type": "stream",
     "text": [
      "redundancy 0.0\n"
     ]
    }
   ],
   "source": [
    "\n",
    "#fraction of zero eigenvalues\n",
    "redundancy=n_zero_eigval/n_parameters\n",
    "print(\"redundancy\",redundancy)"
   ]
  },
  {
   "cell_type": "markdown",
   "metadata": {},
   "source": [
    "Logarithm of eigenvalues has peak when the parameter dimension become maximal. Increase depth of circuit to observe this effect."
   ]
  },
  {
   "cell_type": "code",
   "execution_count": 49,
   "metadata": {},
   "outputs": [
    {
     "name": "stdout",
     "output_type": "stream",
     "text": [
      "Logarithm of non-zero qfi eigenvalues 0.27731686815961337\n"
     ]
    }
   ],
   "source": [
    "qfi_var_log_eigval=np.var(np.log10(nonzero_eigvals))\n",
    "\n",
    "print(\"Logarithm of non-zero qfi eigenvalues\",qfi_var_log_eigval)"
   ]
  },
  {
   "cell_type": "markdown",
   "metadata": {},
   "source": [
    "Gradient and natural gradient. Calculates variance, which decreases when increasing depth of circuit and number of qubits, which is hallmark of barren plateau (or vanishing gradient) problem. Note that variance of quantum natural gradient is larger than regular gradient, but both suffer from barren plateaus. \n",
    "When observing peak in logarithm of eigenvalues, the variance of the quantum natural gradient will also decrease also"
   ]
  },
  {
   "cell_type": "code",
   "execution_count": 50,
   "metadata": {},
   "outputs": [
    {
     "name": "stdout",
     "output_type": "stream",
     "text": [
      "mean gradient 0.017470971850529638 mean qng 0.40691992542668515\n",
      "variance gradient 0.009358867375641263 variance qng 2.127928944566042\n"
     ]
    }
   ],
   "source": [
    "eigvals_inv=np.zeros(n_parameters)\n",
    "#invert eigenvalues if they are above threshold, else set to zero\n",
    "for i in range(n_parameters):\n",
    "    if(eigvals[i]<cutoff_eigvals):\n",
    "        eigvals_inv[i]=0 #inverted eigenvalues with cutoff of smallest eigenvalues set to zero\n",
    "    else:\n",
    "        eigvals_inv[i]=1/eigvals[i]\n",
    "        \n",
    "        \n",
    "\n",
    "#inverse for quantum natural gradient\n",
    "#reconstruct inverse matrix from inverse eigenvalues and eigenvectors \n",
    "qfi_inv_matrix=np.dot(eigvecs,np.dot(np.diag(eigvals_inv),np.transpose(np.conjugate(eigvecs))))\n",
    "\n",
    "##qfi_inv_matrix=scipy.linalg.pinv(qfi_matrix)\n",
    "#quantum natural gradient, is gradient with quantum geometric information applied, moves efficient in parameter space\n",
    "\n",
    "quantum_natural_gradient=np.dot(qfi_inv_matrix,gradient_list)\n",
    "\n",
    "\n",
    "mean_gradient=np.mean(gradient_list)\n",
    "mean_qng=np.mean(quantum_natural_gradient)\n",
    "variance_gradient=np.var(gradient_list)\n",
    "variance_qng=np.var(quantum_natural_gradient)\n",
    "\n",
    "#mean of gradients and qng\n",
    "print(\"mean gradient\",mean_gradient,\"mean qng\",mean_qng)\n",
    "#variance of gradients and qng\n",
    "print(\"variance gradient\",variance_gradient,\"variance qng\",variance_qng)"
   ]
  },
  {
   "cell_type": "code",
   "execution_count": null,
   "metadata": {},
   "outputs": [],
   "source": []
  },
  {
   "cell_type": "code",
   "execution_count": null,
   "metadata": {},
   "outputs": [],
   "source": []
  },
  {
   "cell_type": "code",
   "execution_count": null,
   "metadata": {},
   "outputs": [],
   "source": []
  }
 ],
 "metadata": {
  "kernelspec": {
   "display_name": "Python 3",
   "language": "python",
   "name": "python3"
  },
  "language_info": {
   "codemirror_mode": {
    "name": "ipython",
    "version": 3
   },
   "file_extension": ".py",
   "mimetype": "text/x-python",
   "name": "python",
   "nbconvert_exporter": "python",
   "pygments_lexer": "ipython3",
   "version": "3.8.8"
  }
 },
 "nbformat": 4,
 "nbformat_minor": 2
}
